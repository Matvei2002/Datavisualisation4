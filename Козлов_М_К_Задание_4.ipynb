{
  "cells": [
    {
      "cell_type": "markdown",
      "metadata": {
        "id": "Ur4NQZiC18cA"
      },
      "source": [
        "# Исследование надежности заемщиков\n"
      ]
    },
    {
      "cell_type": "markdown",
      "metadata": {
        "id": "BlkMqqci2FLP"
      },
      "source": [
        "## Первый шаг"
      ]
    },
    {
      "cell_type": "code",
      "execution_count": 1,
      "metadata": {
        "id": "NexNLjsU148N"
      },
      "outputs": [],
      "source": [
        "import pandas as pd"
      ]
    },
    {
      "cell_type": "code",
      "execution_count": 2,
      "metadata": {
        "id": "ET4mNZbs3-lG"
      },
      "outputs": [],
      "source": [
        "data = pd.read_csv('data.csv')"
      ]
    },
    {
      "cell_type": "code",
      "execution_count": 3,
      "metadata": {
        "colab": {
          "base_uri": "https://localhost:8080/",
          "height": 313
        },
        "id": "3Sek7v1e4cem",
        "outputId": "193ba9df-454c-4e20-cc8a-694336dc891c"
      },
      "outputs": [
        {
          "data": {
            "text/html": [
              "<div>\n",
              "<style scoped>\n",
              "    .dataframe tbody tr th:only-of-type {\n",
              "        vertical-align: middle;\n",
              "    }\n",
              "\n",
              "    .dataframe tbody tr th {\n",
              "        vertical-align: top;\n",
              "    }\n",
              "\n",
              "    .dataframe thead th {\n",
              "        text-align: right;\n",
              "    }\n",
              "</style>\n",
              "<table border=\"1\" class=\"dataframe\">\n",
              "  <thead>\n",
              "    <tr style=\"text-align: right;\">\n",
              "      <th></th>\n",
              "      <th>children</th>\n",
              "      <th>days_employed</th>\n",
              "      <th>dob_years</th>\n",
              "      <th>education</th>\n",
              "      <th>education_id</th>\n",
              "      <th>family_status</th>\n",
              "      <th>family_status_id</th>\n",
              "      <th>gender</th>\n",
              "      <th>income_type</th>\n",
              "      <th>debt</th>\n",
              "      <th>total_income</th>\n",
              "      <th>purpose</th>\n",
              "    </tr>\n",
              "  </thead>\n",
              "  <tbody>\n",
              "    <tr>\n",
              "      <th>0</th>\n",
              "      <td>1</td>\n",
              "      <td>-8437.673028</td>\n",
              "      <td>42</td>\n",
              "      <td>высшее</td>\n",
              "      <td>0</td>\n",
              "      <td>женат / замужем</td>\n",
              "      <td>0</td>\n",
              "      <td>F</td>\n",
              "      <td>сотрудник</td>\n",
              "      <td>0</td>\n",
              "      <td>253875.639453</td>\n",
              "      <td>покупка жилья</td>\n",
              "    </tr>\n",
              "    <tr>\n",
              "      <th>1</th>\n",
              "      <td>1</td>\n",
              "      <td>-4024.803754</td>\n",
              "      <td>36</td>\n",
              "      <td>среднее</td>\n",
              "      <td>1</td>\n",
              "      <td>женат / замужем</td>\n",
              "      <td>0</td>\n",
              "      <td>F</td>\n",
              "      <td>сотрудник</td>\n",
              "      <td>0</td>\n",
              "      <td>112080.014102</td>\n",
              "      <td>приобретение автомобиля</td>\n",
              "    </tr>\n",
              "    <tr>\n",
              "      <th>2</th>\n",
              "      <td>0</td>\n",
              "      <td>-5623.422610</td>\n",
              "      <td>33</td>\n",
              "      <td>Среднее</td>\n",
              "      <td>1</td>\n",
              "      <td>женат / замужем</td>\n",
              "      <td>0</td>\n",
              "      <td>M</td>\n",
              "      <td>сотрудник</td>\n",
              "      <td>0</td>\n",
              "      <td>145885.952297</td>\n",
              "      <td>покупка жилья</td>\n",
              "    </tr>\n",
              "    <tr>\n",
              "      <th>3</th>\n",
              "      <td>3</td>\n",
              "      <td>-4124.747207</td>\n",
              "      <td>32</td>\n",
              "      <td>среднее</td>\n",
              "      <td>1</td>\n",
              "      <td>женат / замужем</td>\n",
              "      <td>0</td>\n",
              "      <td>M</td>\n",
              "      <td>сотрудник</td>\n",
              "      <td>0</td>\n",
              "      <td>267628.550329</td>\n",
              "      <td>дополнительное образование</td>\n",
              "    </tr>\n",
              "    <tr>\n",
              "      <th>4</th>\n",
              "      <td>0</td>\n",
              "      <td>340266.072047</td>\n",
              "      <td>53</td>\n",
              "      <td>среднее</td>\n",
              "      <td>1</td>\n",
              "      <td>гражданский брак</td>\n",
              "      <td>1</td>\n",
              "      <td>F</td>\n",
              "      <td>пенсионер</td>\n",
              "      <td>0</td>\n",
              "      <td>158616.077870</td>\n",
              "      <td>сыграть свадьбу</td>\n",
              "    </tr>\n",
              "  </tbody>\n",
              "</table>\n",
              "</div>"
            ],
            "text/plain": [
              "   children  days_employed  dob_years education  education_id  \\\n",
              "0         1   -8437.673028         42    высшее             0   \n",
              "1         1   -4024.803754         36   среднее             1   \n",
              "2         0   -5623.422610         33   Среднее             1   \n",
              "3         3   -4124.747207         32   среднее             1   \n",
              "4         0  340266.072047         53   среднее             1   \n",
              "\n",
              "      family_status  family_status_id gender income_type  debt   total_income  \\\n",
              "0   женат / замужем                 0      F   сотрудник     0  253875.639453   \n",
              "1   женат / замужем                 0      F   сотрудник     0  112080.014102   \n",
              "2   женат / замужем                 0      M   сотрудник     0  145885.952297   \n",
              "3   женат / замужем                 0      M   сотрудник     0  267628.550329   \n",
              "4  гражданский брак                 1      F   пенсионер     0  158616.077870   \n",
              "\n",
              "                      purpose  \n",
              "0               покупка жилья  \n",
              "1     приобретение автомобиля  \n",
              "2               покупка жилья  \n",
              "3  дополнительное образование  \n",
              "4             сыграть свадьбу  "
            ]
          },
          "execution_count": 3,
          "metadata": {},
          "output_type": "execute_result"
        }
      ],
      "source": [
        "data.head()"
      ]
    },
    {
      "cell_type": "code",
      "execution_count": 4,
      "metadata": {
        "colab": {
          "base_uri": "https://localhost:8080/"
        },
        "id": "xIBSp6Jm4kGY",
        "outputId": "b850e6a5-54b0-4884-ecc9-8ae8f1689fa3"
      },
      "outputs": [
        {
          "name": "stdout",
          "output_type": "stream",
          "text": [
            "<class 'pandas.core.frame.DataFrame'>\n",
            "RangeIndex: 21525 entries, 0 to 21524\n",
            "Data columns (total 12 columns):\n",
            " #   Column            Non-Null Count  Dtype  \n",
            "---  ------            --------------  -----  \n",
            " 0   children          21525 non-null  int64  \n",
            " 1   days_employed     19351 non-null  float64\n",
            " 2   dob_years         21525 non-null  int64  \n",
            " 3   education         21525 non-null  object \n",
            " 4   education_id      21525 non-null  int64  \n",
            " 5   family_status     21525 non-null  object \n",
            " 6   family_status_id  21525 non-null  int64  \n",
            " 7   gender            21525 non-null  object \n",
            " 8   income_type       21525 non-null  object \n",
            " 9   debt              21525 non-null  int64  \n",
            " 10  total_income      19351 non-null  float64\n",
            " 11  purpose           21525 non-null  object \n",
            "dtypes: float64(2), int64(5), object(5)\n",
            "memory usage: 2.0+ MB\n"
          ]
        }
      ],
      "source": [
        "data.info()"
      ]
    },
    {
      "cell_type": "code",
      "execution_count": 5,
      "metadata": {
        "colab": {
          "base_uri": "https://localhost:8080/"
        },
        "id": "HQGmNH1P4srR",
        "outputId": "f4065429-272b-4acf-d0a4-52b432c9910c"
      },
      "outputs": [
        {
          "data": {
            "text/plain": [
              "0.10099883855981417"
            ]
          },
          "execution_count": 5,
          "metadata": {},
          "output_type": "execute_result"
        }
      ],
      "source": [
        "(21525 - 19351) / 21525"
      ]
    },
    {
      "cell_type": "markdown",
      "metadata": {
        "id": "sYfYoIZ75FiG"
      },
      "source": [
        "1. В выборке 21525 записей..."
      ]
    },
    {
      "cell_type": "code",
      "execution_count": 6,
      "metadata": {
        "colab": {
          "base_uri": "https://localhost:8080/",
          "height": 300
        },
        "id": "8OIU67tN5Bve",
        "outputId": "63381e12-c312-49ce-fba2-eb5b94c142eb"
      },
      "outputs": [
        {
          "data": {
            "text/html": [
              "<div>\n",
              "<style scoped>\n",
              "    .dataframe tbody tr th:only-of-type {\n",
              "        vertical-align: middle;\n",
              "    }\n",
              "\n",
              "    .dataframe tbody tr th {\n",
              "        vertical-align: top;\n",
              "    }\n",
              "\n",
              "    .dataframe thead th {\n",
              "        text-align: right;\n",
              "    }\n",
              "</style>\n",
              "<table border=\"1\" class=\"dataframe\">\n",
              "  <thead>\n",
              "    <tr style=\"text-align: right;\">\n",
              "      <th></th>\n",
              "      <th>children</th>\n",
              "      <th>days_employed</th>\n",
              "      <th>dob_years</th>\n",
              "      <th>education_id</th>\n",
              "      <th>family_status_id</th>\n",
              "      <th>debt</th>\n",
              "      <th>total_income</th>\n",
              "    </tr>\n",
              "  </thead>\n",
              "  <tbody>\n",
              "    <tr>\n",
              "      <th>count</th>\n",
              "      <td>21525.000000</td>\n",
              "      <td>19351.000000</td>\n",
              "      <td>21525.000000</td>\n",
              "      <td>21525.000000</td>\n",
              "      <td>21525.000000</td>\n",
              "      <td>21525.000000</td>\n",
              "      <td>1.935100e+04</td>\n",
              "    </tr>\n",
              "    <tr>\n",
              "      <th>mean</th>\n",
              "      <td>0.538908</td>\n",
              "      <td>63046.497661</td>\n",
              "      <td>43.293380</td>\n",
              "      <td>0.817236</td>\n",
              "      <td>0.972544</td>\n",
              "      <td>0.080883</td>\n",
              "      <td>1.674223e+05</td>\n",
              "    </tr>\n",
              "    <tr>\n",
              "      <th>std</th>\n",
              "      <td>1.381587</td>\n",
              "      <td>140827.311974</td>\n",
              "      <td>12.574584</td>\n",
              "      <td>0.548138</td>\n",
              "      <td>1.420324</td>\n",
              "      <td>0.272661</td>\n",
              "      <td>1.029716e+05</td>\n",
              "    </tr>\n",
              "    <tr>\n",
              "      <th>min</th>\n",
              "      <td>-1.000000</td>\n",
              "      <td>-18388.949901</td>\n",
              "      <td>0.000000</td>\n",
              "      <td>0.000000</td>\n",
              "      <td>0.000000</td>\n",
              "      <td>0.000000</td>\n",
              "      <td>2.066726e+04</td>\n",
              "    </tr>\n",
              "    <tr>\n",
              "      <th>25%</th>\n",
              "      <td>0.000000</td>\n",
              "      <td>-2747.423625</td>\n",
              "      <td>33.000000</td>\n",
              "      <td>1.000000</td>\n",
              "      <td>0.000000</td>\n",
              "      <td>0.000000</td>\n",
              "      <td>1.030532e+05</td>\n",
              "    </tr>\n",
              "    <tr>\n",
              "      <th>50%</th>\n",
              "      <td>0.000000</td>\n",
              "      <td>-1203.369529</td>\n",
              "      <td>42.000000</td>\n",
              "      <td>1.000000</td>\n",
              "      <td>0.000000</td>\n",
              "      <td>0.000000</td>\n",
              "      <td>1.450179e+05</td>\n",
              "    </tr>\n",
              "    <tr>\n",
              "      <th>75%</th>\n",
              "      <td>1.000000</td>\n",
              "      <td>-291.095954</td>\n",
              "      <td>53.000000</td>\n",
              "      <td>1.000000</td>\n",
              "      <td>1.000000</td>\n",
              "      <td>0.000000</td>\n",
              "      <td>2.034351e+05</td>\n",
              "    </tr>\n",
              "    <tr>\n",
              "      <th>max</th>\n",
              "      <td>20.000000</td>\n",
              "      <td>401755.400475</td>\n",
              "      <td>75.000000</td>\n",
              "      <td>4.000000</td>\n",
              "      <td>4.000000</td>\n",
              "      <td>1.000000</td>\n",
              "      <td>2.265604e+06</td>\n",
              "    </tr>\n",
              "  </tbody>\n",
              "</table>\n",
              "</div>"
            ],
            "text/plain": [
              "           children  days_employed     dob_years  education_id  \\\n",
              "count  21525.000000   19351.000000  21525.000000  21525.000000   \n",
              "mean       0.538908   63046.497661     43.293380      0.817236   \n",
              "std        1.381587  140827.311974     12.574584      0.548138   \n",
              "min       -1.000000  -18388.949901      0.000000      0.000000   \n",
              "25%        0.000000   -2747.423625     33.000000      1.000000   \n",
              "50%        0.000000   -1203.369529     42.000000      1.000000   \n",
              "75%        1.000000    -291.095954     53.000000      1.000000   \n",
              "max       20.000000  401755.400475     75.000000      4.000000   \n",
              "\n",
              "       family_status_id          debt  total_income  \n",
              "count      21525.000000  21525.000000  1.935100e+04  \n",
              "mean           0.972544      0.080883  1.674223e+05  \n",
              "std            1.420324      0.272661  1.029716e+05  \n",
              "min            0.000000      0.000000  2.066726e+04  \n",
              "25%            0.000000      0.000000  1.030532e+05  \n",
              "50%            0.000000      0.000000  1.450179e+05  \n",
              "75%            1.000000      0.000000  2.034351e+05  \n",
              "max            4.000000      1.000000  2.265604e+06  "
            ]
          },
          "execution_count": 6,
          "metadata": {},
          "output_type": "execute_result"
        }
      ],
      "source": [
        "data.describe()"
      ]
    },
    {
      "cell_type": "code",
      "execution_count": 7,
      "metadata": {
        "colab": {
          "base_uri": "https://localhost:8080/"
        },
        "id": "PAL2Botf5XH2",
        "outputId": "a813799f-cbad-4aef-e87f-9d1519b90806"
      },
      "outputs": [
        {
          "data": {
            "text/plain": [
              "1100.6986301369864"
            ]
          },
          "execution_count": 7,
          "metadata": {},
          "output_type": "execute_result"
        }
      ],
      "source": [
        "401755 / 365"
      ]
    },
    {
      "cell_type": "markdown",
      "metadata": {
        "id": "vUZqyebz-lCX"
      },
      "source": [
        "## Второй шаг"
      ]
    },
    {
      "cell_type": "markdown",
      "metadata": {
        "id": "X1UOf7KK6D5g"
      },
      "source": [
        "### Обработка пропусков\n"
      ]
    },
    {
      "cell_type": "code",
      "execution_count": 8,
      "metadata": {
        "colab": {
          "base_uri": "https://localhost:8080/"
        },
        "id": "OZd9n9H65qZ9",
        "outputId": "7794b561-4253-44b1-8132-aacdbefccce7"
      },
      "outputs": [
        {
          "data": {
            "text/plain": [
              "children               0\n",
              "days_employed       2174\n",
              "dob_years              0\n",
              "education              0\n",
              "education_id           0\n",
              "family_status          0\n",
              "family_status_id       0\n",
              "gender                 0\n",
              "income_type            0\n",
              "debt                   0\n",
              "total_income           0\n",
              "purpose                0\n",
              "dtype: int64"
            ]
          },
          "execution_count": 8,
          "metadata": {},
          "output_type": "execute_result"
        }
      ],
      "source": [
        "total_income_median = data['total_income'].median()\n",
        "data['total_income'] = data['total_income'].fillna(total_income_median)\n",
        "data.isna().sum()"
      ]
    },
    {
      "cell_type": "code",
      "execution_count": 9,
      "metadata": {
        "colab": {
          "base_uri": "https://localhost:8080/"
        },
        "id": "y3WUYZQG8oE4",
        "outputId": "e66ec7b1-78bd-4ccb-8097-982759a53cfe"
      },
      "outputs": [
        {
          "data": {
            "text/plain": [
              "0      -8437.673028\n",
              "1      -4024.803754\n",
              "2      -5623.422610\n",
              "3      -4124.747207\n",
              "4     340266.072047\n",
              "5       -926.185831\n",
              "6      -2879.202052\n",
              "7       -152.779569\n",
              "8      -6929.865299\n",
              "9      -2188.756445\n",
              "10     -4171.483647\n",
              "11      -792.701887\n",
              "12              NaN\n",
              "13     -1846.641941\n",
              "14     -1844.956182\n",
              "15      -972.364419\n",
              "16     -1719.934226\n",
              "17     -2369.999720\n",
              "18    400281.136913\n",
              "19    -10038.818549\n",
              "Name: days_employed, dtype: float64"
            ]
          },
          "execution_count": 9,
          "metadata": {},
          "output_type": "execute_result"
        }
      ],
      "source": [
        "data['days_employed'].describe()\n",
        "data['days_employed'].head(20)"
      ]
    },
    {
      "cell_type": "code",
      "execution_count": 10,
      "metadata": {
        "id": "BnGBPZBk_rVE"
      },
      "outputs": [],
      "source": [
        "def fix_days_employed(value):\n",
        "  if value < 0:\n",
        "    return abs(value)\n",
        "  if value > 0:\n",
        "    return value / 24"
      ]
    },
    {
      "cell_type": "code",
      "execution_count": 11,
      "metadata": {
        "id": "EiHcPamSAJcY"
      },
      "outputs": [],
      "source": [
        "data['days_employed'] = data['days_employed'].apply(fix_days_employed)"
      ]
    },
    {
      "cell_type": "code",
      "execution_count": 12,
      "metadata": {
        "colab": {
          "base_uri": "https://localhost:8080/"
        },
        "id": "M7PXTmAeAW25",
        "outputId": "00291862-6dea-4f1f-fa8a-eb89acd7bab6"
      },
      "outputs": [
        {
          "data": {
            "text/plain": [
              "count    19351.000000\n",
              "mean      4641.641176\n",
              "std       5355.964289\n",
              "min         24.141633\n",
              "25%        927.009265\n",
              "50%       2194.220567\n",
              "75%       5537.882441\n",
              "max      18388.949901\n",
              "Name: days_employed, dtype: float64"
            ]
          },
          "execution_count": 12,
          "metadata": {},
          "output_type": "execute_result"
        }
      ],
      "source": [
        "data['days_employed'].describe()"
      ]
    },
    {
      "cell_type": "code",
      "execution_count": 13,
      "metadata": {
        "colab": {
          "base_uri": "https://localhost:8080/"
        },
        "id": "cvJd0eMlAvCe",
        "outputId": "c9feafd2-1248-49d5-a5c5-eebeb6ce3737"
      },
      "outputs": [
        {
          "data": {
            "text/plain": [
              "children            0\n",
              "days_employed       0\n",
              "dob_years           0\n",
              "education           0\n",
              "education_id        0\n",
              "family_status       0\n",
              "family_status_id    0\n",
              "gender              0\n",
              "income_type         0\n",
              "debt                0\n",
              "total_income        0\n",
              "purpose             0\n",
              "dtype: int64"
            ]
          },
          "execution_count": 13,
          "metadata": {},
          "output_type": "execute_result"
        }
      ],
      "source": [
        "days_employed_median = data['days_employed'].median()\n",
        "data['days_employed'] = data['days_employed'].fillna(days_employed_median)\n",
        "data.isna().sum()"
      ]
    },
    {
      "cell_type": "code",
      "execution_count": 14,
      "metadata": {
        "colab": {
          "base_uri": "https://localhost:8080/",
          "height": 293
        },
        "id": "0dACA6FwJGKQ",
        "outputId": "7226fb2c-99d5-4320-b095-88fab33d22b6"
      },
      "outputs": [
        {
          "data": {
            "text/html": [
              "<div>\n",
              "<style scoped>\n",
              "    .dataframe tbody tr th:only-of-type {\n",
              "        vertical-align: middle;\n",
              "    }\n",
              "\n",
              "    .dataframe tbody tr th {\n",
              "        vertical-align: top;\n",
              "    }\n",
              "\n",
              "    .dataframe thead th {\n",
              "        text-align: right;\n",
              "    }\n",
              "</style>\n",
              "<table border=\"1\" class=\"dataframe\">\n",
              "  <thead>\n",
              "    <tr style=\"text-align: right;\">\n",
              "      <th></th>\n",
              "      <th>children</th>\n",
              "      <th>dob_years</th>\n",
              "      <th>education</th>\n",
              "      <th>education_id</th>\n",
              "      <th>family_status</th>\n",
              "      <th>family_status_id</th>\n",
              "      <th>gender</th>\n",
              "      <th>income_type</th>\n",
              "      <th>debt</th>\n",
              "      <th>total_income</th>\n",
              "      <th>purpose</th>\n",
              "    </tr>\n",
              "  </thead>\n",
              "  <tbody>\n",
              "    <tr>\n",
              "      <th>0</th>\n",
              "      <td>1</td>\n",
              "      <td>42</td>\n",
              "      <td>высшее</td>\n",
              "      <td>0</td>\n",
              "      <td>женат / замужем</td>\n",
              "      <td>0</td>\n",
              "      <td>F</td>\n",
              "      <td>сотрудник</td>\n",
              "      <td>0</td>\n",
              "      <td>253875.639453</td>\n",
              "      <td>покупка жилья</td>\n",
              "    </tr>\n",
              "    <tr>\n",
              "      <th>1</th>\n",
              "      <td>1</td>\n",
              "      <td>36</td>\n",
              "      <td>среднее</td>\n",
              "      <td>1</td>\n",
              "      <td>женат / замужем</td>\n",
              "      <td>0</td>\n",
              "      <td>F</td>\n",
              "      <td>сотрудник</td>\n",
              "      <td>0</td>\n",
              "      <td>112080.014102</td>\n",
              "      <td>приобретение автомобиля</td>\n",
              "    </tr>\n",
              "    <tr>\n",
              "      <th>2</th>\n",
              "      <td>0</td>\n",
              "      <td>33</td>\n",
              "      <td>Среднее</td>\n",
              "      <td>1</td>\n",
              "      <td>женат / замужем</td>\n",
              "      <td>0</td>\n",
              "      <td>M</td>\n",
              "      <td>сотрудник</td>\n",
              "      <td>0</td>\n",
              "      <td>145885.952297</td>\n",
              "      <td>покупка жилья</td>\n",
              "    </tr>\n",
              "    <tr>\n",
              "      <th>3</th>\n",
              "      <td>3</td>\n",
              "      <td>32</td>\n",
              "      <td>среднее</td>\n",
              "      <td>1</td>\n",
              "      <td>женат / замужем</td>\n",
              "      <td>0</td>\n",
              "      <td>M</td>\n",
              "      <td>сотрудник</td>\n",
              "      <td>0</td>\n",
              "      <td>267628.550329</td>\n",
              "      <td>дополнительное образование</td>\n",
              "    </tr>\n",
              "    <tr>\n",
              "      <th>4</th>\n",
              "      <td>0</td>\n",
              "      <td>53</td>\n",
              "      <td>среднее</td>\n",
              "      <td>1</td>\n",
              "      <td>гражданский брак</td>\n",
              "      <td>1</td>\n",
              "      <td>F</td>\n",
              "      <td>пенсионер</td>\n",
              "      <td>0</td>\n",
              "      <td>158616.077870</td>\n",
              "      <td>сыграть свадьбу</td>\n",
              "    </tr>\n",
              "  </tbody>\n",
              "</table>\n",
              "</div>"
            ],
            "text/plain": [
              "   children  dob_years education  education_id     family_status  \\\n",
              "0         1         42    высшее             0   женат / замужем   \n",
              "1         1         36   среднее             1   женат / замужем   \n",
              "2         0         33   Среднее             1   женат / замужем   \n",
              "3         3         32   среднее             1   женат / замужем   \n",
              "4         0         53   среднее             1  гражданский брак   \n",
              "\n",
              "   family_status_id gender income_type  debt   total_income  \\\n",
              "0                 0      F   сотрудник     0  253875.639453   \n",
              "1                 0      F   сотрудник     0  112080.014102   \n",
              "2                 0      M   сотрудник     0  145885.952297   \n",
              "3                 0      M   сотрудник     0  267628.550329   \n",
              "4                 1      F   пенсионер     0  158616.077870   \n",
              "\n",
              "                      purpose  \n",
              "0               покупка жилья  \n",
              "1     приобретение автомобиля  \n",
              "2               покупка жилья  \n",
              "3  дополнительное образование  \n",
              "4             сыграть свадьбу  "
            ]
          },
          "execution_count": 14,
          "metadata": {},
          "output_type": "execute_result"
        }
      ],
      "source": [
        "data = data.drop(['days_employed'], axis = 1)\n",
        "data.head()"
      ]
    },
    {
      "cell_type": "code",
      "execution_count": 15,
      "metadata": {
        "colab": {
          "base_uri": "https://localhost:8080/",
          "height": 206
        },
        "id": "gAEuHY6jJiCs",
        "outputId": "d6bb4266-f0d0-4747-f40a-be88853946fc"
      },
      "outputs": [
        {
          "data": {
            "text/html": [
              "<div>\n",
              "<style scoped>\n",
              "    .dataframe tbody tr th:only-of-type {\n",
              "        vertical-align: middle;\n",
              "    }\n",
              "\n",
              "    .dataframe tbody tr th {\n",
              "        vertical-align: top;\n",
              "    }\n",
              "\n",
              "    .dataframe thead th {\n",
              "        text-align: right;\n",
              "    }\n",
              "</style>\n",
              "<table border=\"1\" class=\"dataframe\">\n",
              "  <thead>\n",
              "    <tr style=\"text-align: right;\">\n",
              "      <th></th>\n",
              "      <th>children</th>\n",
              "      <th>dob_years</th>\n",
              "      <th>education</th>\n",
              "      <th>family_status</th>\n",
              "      <th>gender</th>\n",
              "      <th>income_type</th>\n",
              "      <th>debt</th>\n",
              "      <th>total_income</th>\n",
              "      <th>purpose</th>\n",
              "    </tr>\n",
              "  </thead>\n",
              "  <tbody>\n",
              "    <tr>\n",
              "      <th>0</th>\n",
              "      <td>1</td>\n",
              "      <td>42</td>\n",
              "      <td>высшее</td>\n",
              "      <td>женат / замужем</td>\n",
              "      <td>F</td>\n",
              "      <td>сотрудник</td>\n",
              "      <td>0</td>\n",
              "      <td>253875.639453</td>\n",
              "      <td>покупка жилья</td>\n",
              "    </tr>\n",
              "    <tr>\n",
              "      <th>1</th>\n",
              "      <td>1</td>\n",
              "      <td>36</td>\n",
              "      <td>среднее</td>\n",
              "      <td>женат / замужем</td>\n",
              "      <td>F</td>\n",
              "      <td>сотрудник</td>\n",
              "      <td>0</td>\n",
              "      <td>112080.014102</td>\n",
              "      <td>приобретение автомобиля</td>\n",
              "    </tr>\n",
              "    <tr>\n",
              "      <th>2</th>\n",
              "      <td>0</td>\n",
              "      <td>33</td>\n",
              "      <td>Среднее</td>\n",
              "      <td>женат / замужем</td>\n",
              "      <td>M</td>\n",
              "      <td>сотрудник</td>\n",
              "      <td>0</td>\n",
              "      <td>145885.952297</td>\n",
              "      <td>покупка жилья</td>\n",
              "    </tr>\n",
              "    <tr>\n",
              "      <th>3</th>\n",
              "      <td>3</td>\n",
              "      <td>32</td>\n",
              "      <td>среднее</td>\n",
              "      <td>женат / замужем</td>\n",
              "      <td>M</td>\n",
              "      <td>сотрудник</td>\n",
              "      <td>0</td>\n",
              "      <td>267628.550329</td>\n",
              "      <td>дополнительное образование</td>\n",
              "    </tr>\n",
              "    <tr>\n",
              "      <th>4</th>\n",
              "      <td>0</td>\n",
              "      <td>53</td>\n",
              "      <td>среднее</td>\n",
              "      <td>гражданский брак</td>\n",
              "      <td>F</td>\n",
              "      <td>пенсионер</td>\n",
              "      <td>0</td>\n",
              "      <td>158616.077870</td>\n",
              "      <td>сыграть свадьбу</td>\n",
              "    </tr>\n",
              "  </tbody>\n",
              "</table>\n",
              "</div>"
            ],
            "text/plain": [
              "   children  dob_years education     family_status gender income_type  debt  \\\n",
              "0         1         42    высшее   женат / замужем      F   сотрудник     0   \n",
              "1         1         36   среднее   женат / замужем      F   сотрудник     0   \n",
              "2         0         33   Среднее   женат / замужем      M   сотрудник     0   \n",
              "3         3         32   среднее   женат / замужем      M   сотрудник     0   \n",
              "4         0         53   среднее  гражданский брак      F   пенсионер     0   \n",
              "\n",
              "    total_income                     purpose  \n",
              "0  253875.639453               покупка жилья  \n",
              "1  112080.014102     приобретение автомобиля  \n",
              "2  145885.952297               покупка жилья  \n",
              "3  267628.550329  дополнительное образование  \n",
              "4  158616.077870             сыграть свадьбу  "
            ]
          },
          "execution_count": 15,
          "metadata": {},
          "output_type": "execute_result"
        }
      ],
      "source": [
        "data = data.drop(['family_status_id', 'education_id'], axis = 1)\n",
        "data.head()"
      ]
    },
    {
      "cell_type": "markdown",
      "metadata": {
        "id": "-Pu0GrEvC8YL"
      },
      "source": [
        "### Работа с дубликатами\n"
      ]
    },
    {
      "cell_type": "code",
      "execution_count": 16,
      "metadata": {
        "colab": {
          "base_uri": "https://localhost:8080/"
        },
        "id": "bwwF7N6KDB3O",
        "outputId": "39cd41a3-4e02-4734-e291-81f2698d0bdc"
      },
      "outputs": [
        {
          "data": {
            "text/plain": [
              "array(['высшее', 'среднее', 'Среднее', 'СРЕДНЕЕ', 'ВЫСШЕЕ',\n",
              "       'неоконченное высшее', 'начальное', 'Высшее',\n",
              "       'НЕОКОНЧЕННОЕ ВЫСШЕЕ', 'Неоконченное высшее', 'НАЧАЛЬНОЕ',\n",
              "       'Начальное', 'Ученая степень', 'УЧЕНАЯ СТЕПЕНЬ', 'ученая степень'],\n",
              "      dtype=object)"
            ]
          },
          "execution_count": 16,
          "metadata": {},
          "output_type": "execute_result"
        }
      ],
      "source": [
        "data['education'].unique()"
      ]
    },
    {
      "cell_type": "code",
      "execution_count": 17,
      "metadata": {
        "colab": {
          "base_uri": "https://localhost:8080/"
        },
        "id": "-ojdZj_2Ec0i",
        "outputId": "d5f25350-eeea-4db5-f70c-6fcaa7057253"
      },
      "outputs": [
        {
          "data": {
            "text/plain": [
              "array(['высшее', 'среднее', 'неоконченное высшее', 'начальное',\n",
              "       'ученая степень'], dtype=object)"
            ]
          },
          "execution_count": 17,
          "metadata": {},
          "output_type": "execute_result"
        }
      ],
      "source": [
        "data['education'] = data['education'].str.lower()\n",
        "data['education'].unique()"
      ]
    },
    {
      "cell_type": "code",
      "execution_count": 18,
      "metadata": {
        "colab": {
          "base_uri": "https://localhost:8080/"
        },
        "id": "WZ4s2FEWEzg_",
        "outputId": "acb0c688-9bf4-48ab-dec7-2d2b1abbbffd"
      },
      "outputs": [
        {
          "data": {
            "text/plain": [
              "71"
            ]
          },
          "execution_count": 18,
          "metadata": {},
          "output_type": "execute_result"
        }
      ],
      "source": [
        "data.duplicated().sum()"
      ]
    },
    {
      "cell_type": "code",
      "execution_count": 19,
      "metadata": {
        "id": "cY7_Oa_YE7-T"
      },
      "outputs": [],
      "source": [
        "data = data.drop_duplicates().reset_index(drop = True)"
      ]
    },
    {
      "cell_type": "code",
      "execution_count": 20,
      "metadata": {
        "colab": {
          "base_uri": "https://localhost:8080/"
        },
        "id": "bQSeQOKnFRxE",
        "outputId": "f619468f-d41f-498f-93a3-a921cad9dce0"
      },
      "outputs": [
        {
          "data": {
            "text/plain": [
              "0"
            ]
          },
          "execution_count": 20,
          "metadata": {},
          "output_type": "execute_result"
        }
      ],
      "source": [
        "data.duplicated().sum()"
      ]
    },
    {
      "cell_type": "markdown",
      "metadata": {
        "id": "YSdwVbilFjy5"
      },
      "source": [
        "В датасете был обнаружен и удален 71 полный дубликат. А значения в столбце register были приведены к нижнему регистру."
      ]
    },
    {
      "cell_type": "markdown",
      "metadata": {
        "id": "6TPkBaWJJ6NY"
      },
      "source": [
        "### Изменение типов данных"
      ]
    },
    {
      "cell_type": "code",
      "execution_count": 21,
      "metadata": {
        "id": "bBnQ8otLLCkb"
      },
      "outputs": [],
      "source": [
        "data['total_income'] = data['total_income'].astype('int64')"
      ]
    },
    {
      "cell_type": "code",
      "execution_count": 22,
      "metadata": {
        "colab": {
          "base_uri": "https://localhost:8080/",
          "height": 206
        },
        "id": "hEyCJxPjMgMj",
        "outputId": "6ae298ce-1623-4bd1-c27a-2f34e9ff8243"
      },
      "outputs": [
        {
          "data": {
            "text/html": [
              "<div>\n",
              "<style scoped>\n",
              "    .dataframe tbody tr th:only-of-type {\n",
              "        vertical-align: middle;\n",
              "    }\n",
              "\n",
              "    .dataframe tbody tr th {\n",
              "        vertical-align: top;\n",
              "    }\n",
              "\n",
              "    .dataframe thead th {\n",
              "        text-align: right;\n",
              "    }\n",
              "</style>\n",
              "<table border=\"1\" class=\"dataframe\">\n",
              "  <thead>\n",
              "    <tr style=\"text-align: right;\">\n",
              "      <th></th>\n",
              "      <th>children</th>\n",
              "      <th>dob_years</th>\n",
              "      <th>education</th>\n",
              "      <th>family_status</th>\n",
              "      <th>gender</th>\n",
              "      <th>income_type</th>\n",
              "      <th>debt</th>\n",
              "      <th>total_income</th>\n",
              "      <th>purpose</th>\n",
              "    </tr>\n",
              "  </thead>\n",
              "  <tbody>\n",
              "    <tr>\n",
              "      <th>0</th>\n",
              "      <td>1</td>\n",
              "      <td>42</td>\n",
              "      <td>высшее</td>\n",
              "      <td>женат / замужем</td>\n",
              "      <td>F</td>\n",
              "      <td>сотрудник</td>\n",
              "      <td>0</td>\n",
              "      <td>253875</td>\n",
              "      <td>покупка жилья</td>\n",
              "    </tr>\n",
              "    <tr>\n",
              "      <th>1</th>\n",
              "      <td>1</td>\n",
              "      <td>36</td>\n",
              "      <td>среднее</td>\n",
              "      <td>женат / замужем</td>\n",
              "      <td>F</td>\n",
              "      <td>сотрудник</td>\n",
              "      <td>0</td>\n",
              "      <td>112080</td>\n",
              "      <td>приобретение автомобиля</td>\n",
              "    </tr>\n",
              "    <tr>\n",
              "      <th>2</th>\n",
              "      <td>0</td>\n",
              "      <td>33</td>\n",
              "      <td>среднее</td>\n",
              "      <td>женат / замужем</td>\n",
              "      <td>M</td>\n",
              "      <td>сотрудник</td>\n",
              "      <td>0</td>\n",
              "      <td>145885</td>\n",
              "      <td>покупка жилья</td>\n",
              "    </tr>\n",
              "    <tr>\n",
              "      <th>3</th>\n",
              "      <td>3</td>\n",
              "      <td>32</td>\n",
              "      <td>среднее</td>\n",
              "      <td>женат / замужем</td>\n",
              "      <td>M</td>\n",
              "      <td>сотрудник</td>\n",
              "      <td>0</td>\n",
              "      <td>267628</td>\n",
              "      <td>дополнительное образование</td>\n",
              "    </tr>\n",
              "    <tr>\n",
              "      <th>4</th>\n",
              "      <td>0</td>\n",
              "      <td>53</td>\n",
              "      <td>среднее</td>\n",
              "      <td>гражданский брак</td>\n",
              "      <td>F</td>\n",
              "      <td>пенсионер</td>\n",
              "      <td>0</td>\n",
              "      <td>158616</td>\n",
              "      <td>сыграть свадьбу</td>\n",
              "    </tr>\n",
              "  </tbody>\n",
              "</table>\n",
              "</div>"
            ],
            "text/plain": [
              "   children  dob_years education     family_status gender income_type  debt  \\\n",
              "0         1         42    высшее   женат / замужем      F   сотрудник     0   \n",
              "1         1         36   среднее   женат / замужем      F   сотрудник     0   \n",
              "2         0         33   среднее   женат / замужем      M   сотрудник     0   \n",
              "3         3         32   среднее   женат / замужем      M   сотрудник     0   \n",
              "4         0         53   среднее  гражданский брак      F   пенсионер     0   \n",
              "\n",
              "   total_income                     purpose  \n",
              "0        253875               покупка жилья  \n",
              "1        112080     приобретение автомобиля  \n",
              "2        145885               покупка жилья  \n",
              "3        267628  дополнительное образование  \n",
              "4        158616             сыграть свадьбу  "
            ]
          },
          "execution_count": 22,
          "metadata": {},
          "output_type": "execute_result"
        }
      ],
      "source": [
        "data.head()"
      ]
    },
    {
      "cell_type": "code",
      "execution_count": 23,
      "metadata": {
        "colab": {
          "base_uri": "https://localhost:8080/"
        },
        "id": "Az8kRRqdLwrN",
        "outputId": "b82b0f82-8892-4933-c497-aa4077992a8f"
      },
      "outputs": [
        {
          "name": "stdout",
          "output_type": "stream",
          "text": [
            "<class 'pandas.core.frame.DataFrame'>\n",
            "RangeIndex: 21454 entries, 0 to 21453\n",
            "Data columns (total 9 columns):\n",
            " #   Column         Non-Null Count  Dtype \n",
            "---  ------         --------------  ----- \n",
            " 0   children       21454 non-null  int64 \n",
            " 1   dob_years      21454 non-null  int64 \n",
            " 2   education      21454 non-null  object\n",
            " 3   family_status  21454 non-null  object\n",
            " 4   gender         21454 non-null  object\n",
            " 5   income_type    21454 non-null  object\n",
            " 6   debt           21454 non-null  int64 \n",
            " 7   total_income   21454 non-null  int64 \n",
            " 8   purpose        21454 non-null  object\n",
            "dtypes: int64(4), object(5)\n",
            "memory usage: 1.5+ MB\n"
          ]
        }
      ],
      "source": [
        "data.info()"
      ]
    },
    {
      "cell_type": "markdown",
      "metadata": {
        "id": "cTfh_AsPM52o"
      },
      "source": [
        "### Категоризация данных"
      ]
    },
    {
      "cell_type": "code",
      "execution_count": 24,
      "metadata": {
        "id": "5Bfo546tNAF7"
      },
      "outputs": [],
      "source": [
        "def income_category (income):\n",
        "  if income <= 30000:\n",
        "    return 'E'\n",
        "  if income <= 50000:\n",
        "    return 'D'\n",
        "  if income <= 200000:\n",
        "    return 'C'\n",
        "  if income <= 1000000:\n",
        "    return 'B'\n",
        "  return 'A'"
      ]
    },
    {
      "cell_type": "code",
      "execution_count": 25,
      "metadata": {
        "colab": {
          "base_uri": "https://localhost:8080/",
          "height": 241
        },
        "id": "vYHBHM8yNmpq",
        "outputId": "63b14696-18f1-41cd-9176-3fb93ff526fb"
      },
      "outputs": [
        {
          "data": {
            "text/html": [
              "<div>\n",
              "<style scoped>\n",
              "    .dataframe tbody tr th:only-of-type {\n",
              "        vertical-align: middle;\n",
              "    }\n",
              "\n",
              "    .dataframe tbody tr th {\n",
              "        vertical-align: top;\n",
              "    }\n",
              "\n",
              "    .dataframe thead th {\n",
              "        text-align: right;\n",
              "    }\n",
              "</style>\n",
              "<table border=\"1\" class=\"dataframe\">\n",
              "  <thead>\n",
              "    <tr style=\"text-align: right;\">\n",
              "      <th></th>\n",
              "      <th>children</th>\n",
              "      <th>dob_years</th>\n",
              "      <th>education</th>\n",
              "      <th>family_status</th>\n",
              "      <th>gender</th>\n",
              "      <th>income_type</th>\n",
              "      <th>debt</th>\n",
              "      <th>total_income</th>\n",
              "      <th>purpose</th>\n",
              "      <th>total_income_category</th>\n",
              "    </tr>\n",
              "  </thead>\n",
              "  <tbody>\n",
              "    <tr>\n",
              "      <th>0</th>\n",
              "      <td>1</td>\n",
              "      <td>42</td>\n",
              "      <td>высшее</td>\n",
              "      <td>женат / замужем</td>\n",
              "      <td>F</td>\n",
              "      <td>сотрудник</td>\n",
              "      <td>0</td>\n",
              "      <td>253875</td>\n",
              "      <td>покупка жилья</td>\n",
              "      <td>B</td>\n",
              "    </tr>\n",
              "    <tr>\n",
              "      <th>1</th>\n",
              "      <td>1</td>\n",
              "      <td>36</td>\n",
              "      <td>среднее</td>\n",
              "      <td>женат / замужем</td>\n",
              "      <td>F</td>\n",
              "      <td>сотрудник</td>\n",
              "      <td>0</td>\n",
              "      <td>112080</td>\n",
              "      <td>приобретение автомобиля</td>\n",
              "      <td>C</td>\n",
              "    </tr>\n",
              "    <tr>\n",
              "      <th>2</th>\n",
              "      <td>0</td>\n",
              "      <td>33</td>\n",
              "      <td>среднее</td>\n",
              "      <td>женат / замужем</td>\n",
              "      <td>M</td>\n",
              "      <td>сотрудник</td>\n",
              "      <td>0</td>\n",
              "      <td>145885</td>\n",
              "      <td>покупка жилья</td>\n",
              "      <td>C</td>\n",
              "    </tr>\n",
              "    <tr>\n",
              "      <th>3</th>\n",
              "      <td>3</td>\n",
              "      <td>32</td>\n",
              "      <td>среднее</td>\n",
              "      <td>женат / замужем</td>\n",
              "      <td>M</td>\n",
              "      <td>сотрудник</td>\n",
              "      <td>0</td>\n",
              "      <td>267628</td>\n",
              "      <td>дополнительное образование</td>\n",
              "      <td>B</td>\n",
              "    </tr>\n",
              "    <tr>\n",
              "      <th>4</th>\n",
              "      <td>0</td>\n",
              "      <td>53</td>\n",
              "      <td>среднее</td>\n",
              "      <td>гражданский брак</td>\n",
              "      <td>F</td>\n",
              "      <td>пенсионер</td>\n",
              "      <td>0</td>\n",
              "      <td>158616</td>\n",
              "      <td>сыграть свадьбу</td>\n",
              "      <td>C</td>\n",
              "    </tr>\n",
              "  </tbody>\n",
              "</table>\n",
              "</div>"
            ],
            "text/plain": [
              "   children  dob_years education     family_status gender income_type  debt  \\\n",
              "0         1         42    высшее   женат / замужем      F   сотрудник     0   \n",
              "1         1         36   среднее   женат / замужем      F   сотрудник     0   \n",
              "2         0         33   среднее   женат / замужем      M   сотрудник     0   \n",
              "3         3         32   среднее   женат / замужем      M   сотрудник     0   \n",
              "4         0         53   среднее  гражданский брак      F   пенсионер     0   \n",
              "\n",
              "   total_income                     purpose total_income_category  \n",
              "0        253875               покупка жилья                     B  \n",
              "1        112080     приобретение автомобиля                     C  \n",
              "2        145885               покупка жилья                     C  \n",
              "3        267628  дополнительное образование                     B  \n",
              "4        158616             сыграть свадьбу                     C  "
            ]
          },
          "execution_count": 25,
          "metadata": {},
          "output_type": "execute_result"
        }
      ],
      "source": [
        "data['total_income_category'] = data['total_income'].apply(income_category)\n",
        "data.head()"
      ]
    },
    {
      "cell_type": "code",
      "execution_count": 26,
      "metadata": {
        "colab": {
          "base_uri": "https://localhost:8080/"
        },
        "id": "ReL7ldoGN-vC",
        "outputId": "62a4debf-7189-4e23-d57a-323567bf69ef"
      },
      "outputs": [
        {
          "data": {
            "text/plain": [
              "debt\n",
              "0    0.91885\n",
              "1    0.08115\n",
              "Name: proportion, dtype: float64"
            ]
          },
          "execution_count": 26,
          "metadata": {},
          "output_type": "execute_result"
        }
      ],
      "source": [
        "data['debt'].value_counts(normalize = True)"
      ]
    },
    {
      "cell_type": "code",
      "execution_count": 27,
      "metadata": {
        "colab": {
          "base_uri": "https://localhost:8080/"
        },
        "id": "AIZV33VyORaR",
        "outputId": "3cbcefe6-0af8-4e6a-e47b-0e2b30667fed"
      },
      "outputs": [
        {
          "data": {
            "text/plain": [
              "array(['покупка жилья', 'приобретение автомобиля',\n",
              "       'дополнительное образование', 'сыграть свадьбу',\n",
              "       'операции с жильем', 'образование', 'на проведение свадьбы',\n",
              "       'покупка жилья для семьи', 'покупка недвижимости',\n",
              "       'покупка коммерческой недвижимости', 'покупка жилой недвижимости',\n",
              "       'строительство собственной недвижимости', 'недвижимость',\n",
              "       'строительство недвижимости', 'на покупку подержанного автомобиля',\n",
              "       'на покупку своего автомобиля',\n",
              "       'операции с коммерческой недвижимостью',\n",
              "       'строительство жилой недвижимости', 'жилье',\n",
              "       'операции со своей недвижимостью', 'автомобили',\n",
              "       'заняться образованием', 'сделка с подержанным автомобилем',\n",
              "       'получение образования', 'автомобиль', 'свадьба',\n",
              "       'получение дополнительного образования', 'покупка своего жилья',\n",
              "       'операции с недвижимостью', 'получение высшего образования',\n",
              "       'свой автомобиль', 'сделка с автомобилем',\n",
              "       'профильное образование', 'высшее образование',\n",
              "       'покупка жилья для сдачи', 'на покупку автомобиля', 'ремонт жилью',\n",
              "       'заняться высшим образованием'], dtype=object)"
            ]
          },
          "execution_count": 27,
          "metadata": {},
          "output_type": "execute_result"
        }
      ],
      "source": [
        "data['purpose'].unique()"
      ]
    },
    {
      "cell_type": "code",
      "execution_count": 28,
      "metadata": {
        "id": "6b0g0V7EOYFo"
      },
      "outputs": [],
      "source": [
        "wrong_names = ['покупка жилья', 'операции с жильем', 'покупка жилья для семьи',\n",
        "               'покупка недвижимости', 'покупка коммерческой недвижимости',\n",
        "               'покупка жилой недвижимости', 'строительство собственной недвижимости', 'недвижимость',\n",
        "               'строительство недвижимости', 'операции с коммерческой недвижимостью', 'покупка своего жилья', 'операции с недвижимостью',\n",
        "               'покупка жилья для сдачи', 'ремонт жилью']\n",
        "right_name = 'операции с недвижимостью'\n",
        "data['purpose'] = data['purpose'].replace(wrong_names, right_name)"
      ]
    },
    {
      "cell_type": "code",
      "execution_count": 29,
      "metadata": {
        "colab": {
          "base_uri": "https://localhost:8080/"
        },
        "id": "WDhuBKEdQlQd",
        "outputId": "f81a6f10-b6c9-4c67-be37-78029c8c1798"
      },
      "outputs": [
        {
          "data": {
            "text/plain": [
              "array(['операции с недвижимостью', 'приобретение автомобиля',\n",
              "       'дополнительное образование', 'сыграть свадьбу', 'образование',\n",
              "       'на проведение свадьбы', 'на покупку подержанного автомобиля',\n",
              "       'на покупку своего автомобиля', 'строительство жилой недвижимости',\n",
              "       'жилье', 'операции со своей недвижимостью', 'автомобили',\n",
              "       'заняться образованием', 'сделка с подержанным автомобилем',\n",
              "       'получение образования', 'автомобиль', 'свадьба',\n",
              "       'получение дополнительного образования',\n",
              "       'получение высшего образования', 'свой автомобиль',\n",
              "       'сделка с автомобилем', 'профильное образование',\n",
              "       'высшее образование', 'на покупку автомобиля',\n",
              "       'заняться высшим образованием'], dtype=object)"
            ]
          },
          "execution_count": 29,
          "metadata": {},
          "output_type": "execute_result"
        }
      ],
      "source": [
        "data['purpose'].unique()"
      ]
    },
    {
      "cell_type": "code",
      "execution_count": 30,
      "metadata": {
        "id": "pBlWjIKzQq2R"
      },
      "outputs": [],
      "source": [
        "data.loc[data['purpose'].str.contains('образов'),'purpose'] = 'получение образования'\n",
        "data.loc[data['purpose'].str.contains('свадьб'),'purpose'] = 'проведение свадьбы'\n",
        "data.loc[data['purpose'].str.contains('автомоб'),'purpose'] = 'операции с автомобилем'\n",
        "data.loc[data['purpose'].str.contains('жиль'),'purpose'] = 'операции с недвижимостью'\n",
        "data.loc[data['purpose'].str.contains('недвижимост'),'purpose'] = 'операции с недвижимостью'"
      ]
    },
    {
      "cell_type": "code",
      "execution_count": 31,
      "metadata": {
        "colab": {
          "base_uri": "https://localhost:8080/"
        },
        "id": "KkAW8-zDRmaN",
        "outputId": "e369649a-cadf-4217-c165-e3682ae1a2a6"
      },
      "outputs": [
        {
          "data": {
            "text/plain": [
              "array(['операции с недвижимостью', 'операции с автомобилем',\n",
              "       'получение образования', 'проведение свадьбы'], dtype=object)"
            ]
          },
          "execution_count": 31,
          "metadata": {},
          "output_type": "execute_result"
        }
      ],
      "source": [
        "data['purpose'].unique()"
      ]
    },
    {
      "cell_type": "code",
      "execution_count": 32,
      "metadata": {
        "colab": {
          "base_uri": "https://localhost:8080/"
        },
        "id": "cFLEdx0kRvKw",
        "outputId": "ef024c8b-391b-45eb-8f5c-e9a722e957dd"
      },
      "outputs": [
        {
          "data": {
            "text/plain": [
              "purpose\n",
              "операции с недвижимостью    10811\n",
              "операции с автомобилем       4306\n",
              "получение образования        4013\n",
              "проведение свадьбы           2324\n",
              "Name: count, dtype: int64"
            ]
          },
          "execution_count": 32,
          "metadata": {},
          "output_type": "execute_result"
        }
      ],
      "source": [
        "data['purpose'].value_counts()"
      ]
    },
    {
      "cell_type": "markdown",
      "metadata": {
        "id": "MjzZn6vOUcEN"
      },
      "source": [
        "## Третий шаг"
      ]
    },
    {
      "cell_type": "markdown",
      "metadata": {
        "id": "SRKXi4P_UjyT"
      },
      "source": [
        "### Есть ли зависимость между количеством детей и возвратом кредита в срок?"
      ]
    },
    {
      "cell_type": "code",
      "execution_count": 33,
      "metadata": {
        "colab": {
          "base_uri": "https://localhost:8080/",
          "height": 331
        },
        "id": "PZIbOClfUvoz",
        "outputId": "e58e0f26-e4ab-4163-f657-fa38afa886c7"
      },
      "outputs": [
        {
          "data": {
            "text/html": [
              "<div>\n",
              "<style scoped>\n",
              "    .dataframe tbody tr th:only-of-type {\n",
              "        vertical-align: middle;\n",
              "    }\n",
              "\n",
              "    .dataframe tbody tr th {\n",
              "        vertical-align: top;\n",
              "    }\n",
              "\n",
              "    .dataframe thead th {\n",
              "        text-align: right;\n",
              "    }\n",
              "</style>\n",
              "<table border=\"1\" class=\"dataframe\">\n",
              "  <thead>\n",
              "    <tr style=\"text-align: right;\">\n",
              "      <th></th>\n",
              "      <th>Должников</th>\n",
              "      <th>Всего</th>\n",
              "      <th>% должников</th>\n",
              "    </tr>\n",
              "    <tr>\n",
              "      <th>children</th>\n",
              "      <th></th>\n",
              "      <th></th>\n",
              "      <th></th>\n",
              "    </tr>\n",
              "  </thead>\n",
              "  <tbody>\n",
              "    <tr>\n",
              "      <th>-1</th>\n",
              "      <td>1</td>\n",
              "      <td>47</td>\n",
              "      <td>2.127660</td>\n",
              "    </tr>\n",
              "    <tr>\n",
              "      <th>0</th>\n",
              "      <td>1063</td>\n",
              "      <td>14091</td>\n",
              "      <td>7.543822</td>\n",
              "    </tr>\n",
              "    <tr>\n",
              "      <th>1</th>\n",
              "      <td>444</td>\n",
              "      <td>4808</td>\n",
              "      <td>9.234609</td>\n",
              "    </tr>\n",
              "    <tr>\n",
              "      <th>2</th>\n",
              "      <td>194</td>\n",
              "      <td>2052</td>\n",
              "      <td>9.454191</td>\n",
              "    </tr>\n",
              "    <tr>\n",
              "      <th>3</th>\n",
              "      <td>27</td>\n",
              "      <td>330</td>\n",
              "      <td>8.181818</td>\n",
              "    </tr>\n",
              "    <tr>\n",
              "      <th>4</th>\n",
              "      <td>4</td>\n",
              "      <td>41</td>\n",
              "      <td>9.756098</td>\n",
              "    </tr>\n",
              "    <tr>\n",
              "      <th>5</th>\n",
              "      <td>0</td>\n",
              "      <td>9</td>\n",
              "      <td>0.000000</td>\n",
              "    </tr>\n",
              "    <tr>\n",
              "      <th>20</th>\n",
              "      <td>8</td>\n",
              "      <td>76</td>\n",
              "      <td>10.526316</td>\n",
              "    </tr>\n",
              "  </tbody>\n",
              "</table>\n",
              "</div>"
            ],
            "text/plain": [
              "          Должников  Всего  % должников\n",
              "children                               \n",
              "-1                1     47     2.127660\n",
              " 0             1063  14091     7.543822\n",
              " 1              444   4808     9.234609\n",
              " 2              194   2052     9.454191\n",
              " 3               27    330     8.181818\n",
              " 4                4     41     9.756098\n",
              " 5                0      9     0.000000\n",
              " 20               8     76    10.526316"
            ]
          },
          "execution_count": 33,
          "metadata": {},
          "output_type": "execute_result"
        }
      ],
      "source": [
        "children_groups = data.groupby(by = 'children')['debt'].agg(['sum', 'count'])\n",
        "children_groups = children_groups.rename(columns={'sum': 'Должников','count': 'Всего'})\n",
        "children_groups['% должников'] = children_groups['Должников'] / children_groups['Всего'] * 100\n",
        "children_groups"
      ]
    },
    {
      "cell_type": "markdown",
      "metadata": {
        "id": "TQAy85Y7YNjO"
      },
      "source": [
        "### Есть ли зависимость между семейным положением и возвратом кредита в срок?"
      ]
    },
    {
      "cell_type": "code",
      "execution_count": 34,
      "metadata": {
        "colab": {
          "base_uri": "https://localhost:8080/",
          "height": 237
        },
        "id": "LlxQHS9HVpiC",
        "outputId": "ddc34fe8-6953-43c7-f19b-8b98344b6954"
      },
      "outputs": [
        {
          "data": {
            "text/html": [
              "<div>\n",
              "<style scoped>\n",
              "    .dataframe tbody tr th:only-of-type {\n",
              "        vertical-align: middle;\n",
              "    }\n",
              "\n",
              "    .dataframe tbody tr th {\n",
              "        vertical-align: top;\n",
              "    }\n",
              "\n",
              "    .dataframe thead th {\n",
              "        text-align: right;\n",
              "    }\n",
              "</style>\n",
              "<table border=\"1\" class=\"dataframe\">\n",
              "  <thead>\n",
              "    <tr style=\"text-align: right;\">\n",
              "      <th></th>\n",
              "      <th>Должников</th>\n",
              "      <th>Всего</th>\n",
              "      <th>% должников</th>\n",
              "    </tr>\n",
              "    <tr>\n",
              "      <th>family_status</th>\n",
              "      <th></th>\n",
              "      <th></th>\n",
              "      <th></th>\n",
              "    </tr>\n",
              "  </thead>\n",
              "  <tbody>\n",
              "    <tr>\n",
              "      <th>Не женат / не замужем</th>\n",
              "      <td>274</td>\n",
              "      <td>2810</td>\n",
              "      <td>9.750890</td>\n",
              "    </tr>\n",
              "    <tr>\n",
              "      <th>в разводе</th>\n",
              "      <td>85</td>\n",
              "      <td>1195</td>\n",
              "      <td>7.112971</td>\n",
              "    </tr>\n",
              "    <tr>\n",
              "      <th>вдовец / вдова</th>\n",
              "      <td>63</td>\n",
              "      <td>959</td>\n",
              "      <td>6.569343</td>\n",
              "    </tr>\n",
              "    <tr>\n",
              "      <th>гражданский брак</th>\n",
              "      <td>388</td>\n",
              "      <td>4151</td>\n",
              "      <td>9.347145</td>\n",
              "    </tr>\n",
              "    <tr>\n",
              "      <th>женат / замужем</th>\n",
              "      <td>931</td>\n",
              "      <td>12339</td>\n",
              "      <td>7.545182</td>\n",
              "    </tr>\n",
              "  </tbody>\n",
              "</table>\n",
              "</div>"
            ],
            "text/plain": [
              "                       Должников  Всего  % должников\n",
              "family_status                                       \n",
              "Не женат / не замужем        274   2810     9.750890\n",
              "в разводе                     85   1195     7.112971\n",
              "вдовец / вдова                63    959     6.569343\n",
              "гражданский брак             388   4151     9.347145\n",
              "женат / замужем              931  12339     7.545182"
            ]
          },
          "execution_count": 34,
          "metadata": {},
          "output_type": "execute_result"
        }
      ],
      "source": [
        "family_status_groups = data.groupby(by = 'family_status')['debt'].agg(['sum', 'count'])\n",
        "family_status_groups = family_status_groups.rename(columns={'sum': 'Должников','count': 'Всего'})\n",
        "family_status_groups['% должников'] = family_status_groups['Должников'] / family_status_groups['Всего'] * 100\n",
        "family_status_groups"
      ]
    },
    {
      "cell_type": "markdown",
      "metadata": {
        "id": "2vGHMDZqZphY"
      },
      "source": [
        "### Есть ли зависимость между уровнем дохода и возвратом кредита в срок?"
      ]
    },
    {
      "cell_type": "code",
      "execution_count": 35,
      "metadata": {
        "colab": {
          "base_uri": "https://localhost:8080/",
          "height": 237
        },
        "id": "Bh_xMslWZxSg",
        "outputId": "f33a8596-e90c-470d-c2aa-7424b371c7e8"
      },
      "outputs": [
        {
          "data": {
            "text/html": [
              "<div>\n",
              "<style scoped>\n",
              "    .dataframe tbody tr th:only-of-type {\n",
              "        vertical-align: middle;\n",
              "    }\n",
              "\n",
              "    .dataframe tbody tr th {\n",
              "        vertical-align: top;\n",
              "    }\n",
              "\n",
              "    .dataframe thead th {\n",
              "        text-align: right;\n",
              "    }\n",
              "</style>\n",
              "<table border=\"1\" class=\"dataframe\">\n",
              "  <thead>\n",
              "    <tr style=\"text-align: right;\">\n",
              "      <th></th>\n",
              "      <th>Должников</th>\n",
              "      <th>Всего</th>\n",
              "      <th>% должников</th>\n",
              "    </tr>\n",
              "    <tr>\n",
              "      <th>total_income_category</th>\n",
              "      <th></th>\n",
              "      <th></th>\n",
              "      <th></th>\n",
              "    </tr>\n",
              "  </thead>\n",
              "  <tbody>\n",
              "    <tr>\n",
              "      <th>A</th>\n",
              "      <td>2</td>\n",
              "      <td>25</td>\n",
              "      <td>8.000000</td>\n",
              "    </tr>\n",
              "    <tr>\n",
              "      <th>B</th>\n",
              "      <td>356</td>\n",
              "      <td>5041</td>\n",
              "      <td>7.062091</td>\n",
              "    </tr>\n",
              "    <tr>\n",
              "      <th>C</th>\n",
              "      <td>1360</td>\n",
              "      <td>16016</td>\n",
              "      <td>8.491508</td>\n",
              "    </tr>\n",
              "    <tr>\n",
              "      <th>D</th>\n",
              "      <td>21</td>\n",
              "      <td>350</td>\n",
              "      <td>6.000000</td>\n",
              "    </tr>\n",
              "    <tr>\n",
              "      <th>E</th>\n",
              "      <td>2</td>\n",
              "      <td>22</td>\n",
              "      <td>9.090909</td>\n",
              "    </tr>\n",
              "  </tbody>\n",
              "</table>\n",
              "</div>"
            ],
            "text/plain": [
              "                       Должников  Всего  % должников\n",
              "total_income_category                               \n",
              "A                              2     25     8.000000\n",
              "B                            356   5041     7.062091\n",
              "C                           1360  16016     8.491508\n",
              "D                             21    350     6.000000\n",
              "E                              2     22     9.090909"
            ]
          },
          "execution_count": 35,
          "metadata": {},
          "output_type": "execute_result"
        }
      ],
      "source": [
        "gr_data = data.groupby(by = 'total_income_category')['debt'].agg(['sum', 'count'])\n",
        "gr_data = gr_data.rename(columns={'sum': 'Должников','count': 'Всего'})\n",
        "gr_data['% должников'] = gr_data['Должников'] / gr_data['Всего'] * 100\n",
        "gr_data"
      ]
    },
    {
      "cell_type": "markdown",
      "metadata": {
        "id": "A4DQpcoebIDQ"
      },
      "source": [
        "### Как разные цели кредиты влияют на его возврат в срок?"
      ]
    },
    {
      "cell_type": "code",
      "execution_count": 36,
      "metadata": {
        "colab": {
          "base_uri": "https://localhost:8080/",
          "height": 206
        },
        "id": "8i1o2GLkbVh5",
        "outputId": "1a2448bc-eeb6-45e6-ea57-7ab47ed7b4b4"
      },
      "outputs": [
        {
          "data": {
            "text/html": [
              "<div>\n",
              "<style scoped>\n",
              "    .dataframe tbody tr th:only-of-type {\n",
              "        vertical-align: middle;\n",
              "    }\n",
              "\n",
              "    .dataframe tbody tr th {\n",
              "        vertical-align: top;\n",
              "    }\n",
              "\n",
              "    .dataframe thead th {\n",
              "        text-align: right;\n",
              "    }\n",
              "</style>\n",
              "<table border=\"1\" class=\"dataframe\">\n",
              "  <thead>\n",
              "    <tr style=\"text-align: right;\">\n",
              "      <th></th>\n",
              "      <th>Должников</th>\n",
              "      <th>Всего</th>\n",
              "      <th>% должников</th>\n",
              "    </tr>\n",
              "    <tr>\n",
              "      <th>purpose</th>\n",
              "      <th></th>\n",
              "      <th></th>\n",
              "      <th></th>\n",
              "    </tr>\n",
              "  </thead>\n",
              "  <tbody>\n",
              "    <tr>\n",
              "      <th>операции с автомобилем</th>\n",
              "      <td>403</td>\n",
              "      <td>4306</td>\n",
              "      <td>9.359034</td>\n",
              "    </tr>\n",
              "    <tr>\n",
              "      <th>операции с недвижимостью</th>\n",
              "      <td>782</td>\n",
              "      <td>10811</td>\n",
              "      <td>7.233373</td>\n",
              "    </tr>\n",
              "    <tr>\n",
              "      <th>получение образования</th>\n",
              "      <td>370</td>\n",
              "      <td>4013</td>\n",
              "      <td>9.220035</td>\n",
              "    </tr>\n",
              "    <tr>\n",
              "      <th>проведение свадьбы</th>\n",
              "      <td>186</td>\n",
              "      <td>2324</td>\n",
              "      <td>8.003442</td>\n",
              "    </tr>\n",
              "  </tbody>\n",
              "</table>\n",
              "</div>"
            ],
            "text/plain": [
              "                          Должников  Всего  % должников\n",
              "purpose                                                \n",
              "операции с автомобилем          403   4306     9.359034\n",
              "операции с недвижимостью        782  10811     7.233373\n",
              "получение образования           370   4013     9.220035\n",
              "проведение свадьбы              186   2324     8.003442"
            ]
          },
          "execution_count": 36,
          "metadata": {},
          "output_type": "execute_result"
        }
      ],
      "source": [
        "gr_data = data.groupby(by = 'purpose')['debt'].agg(['sum', 'count'])\n",
        "gr_data = gr_data.rename(columns={'sum': 'Должников','count': 'Всего'})\n",
        "gr_data['% должников'] = gr_data['Должников'] / gr_data['Всего'] * 100\n",
        "gr_data"
      ]
    },
    {
      "cell_type": "markdown",
      "metadata": {
        "id": "DMRjj9WxciAC"
      },
      "source": [
        "## Четвертый шаг"
      ]
    },
    {
      "cell_type": "markdown",
      "metadata": {
        "id": "SuqNjok2clxR"
      },
      "source": [
        "Идеальным считается заемщик, который: не имеет детей, является вдовой или вдовцом, с зарплатой, попадающей под категории B и D. Также идеальный тот заемщик, который взял кредит на недвижимость."
      ]
    }
  ],
  "metadata": {
    "colab": {
      "provenance": []
    },
    "kernelspec": {
      "display_name": "Python 3",
      "name": "python3"
    },
    "language_info": {
      "codemirror_mode": {
        "name": "ipython",
        "version": 3
      },
      "file_extension": ".py",
      "mimetype": "text/x-python",
      "name": "python",
      "nbconvert_exporter": "python",
      "pygments_lexer": "ipython3",
      "version": "3.12.0"
    }
  },
  "nbformat": 4,
  "nbformat_minor": 0
}
